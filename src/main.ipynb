{
 "cells": [
  {
   "attachments": {},
   "cell_type": "markdown",
   "metadata": {},
   "source": [
    "# Fact Verification and Extraction of Climate-Related Claims"
   ]
  },
  {
   "attachments": {},
   "cell_type": "markdown",
   "metadata": {},
   "source": [
    "This is the main notebook for my repository. All inference functions are called in this notebook. Helper functions are found in the *.py* files. The model training is conducted in the *.ipynb* files.\n",
    "\n",
    "Please see the *README.md* file and the associated report for further explanation."
   ]
  },
  {
   "attachments": {},
   "cell_type": "markdown",
   "metadata": {},
   "source": [
    "# Preliminary"
   ]
  },
  {
   "attachments": {},
   "cell_type": "markdown",
   "metadata": {},
   "source": [
    "### Imports"
   ]
  },
  {
   "cell_type": "code",
   "execution_count": 1,
   "metadata": {},
   "outputs": [],
   "source": [
    "import json\n",
    "from transformers import AutoTokenizer, AutoModel, AutoModelForSequenceClassification\n",
    "from enum import Enum"
   ]
  },
  {
   "attachments": {},
   "cell_type": "markdown",
   "metadata": {},
   "source": [
    "### Arguments"
   ]
  },
  {
   "attachments": {},
   "cell_type": "markdown",
   "metadata": {},
   "source": [
    "An Arguments object which sets the parameters for the inferences. Change 'mode' to TEST to perform inferences on the test set. DEV will perform inferences on the DEV set."
   ]
  },
  {
   "cell_type": "code",
   "execution_count": 2,
   "metadata": {},
   "outputs": [],
   "source": [
    "class Mode(Enum):\n",
    "    DEV = 1\n",
    "    TEST = 2\n",
    "\n",
    "class Arguments():\n",
    "    mode = Mode.TEST    #'Mode.TEST' = infer on test set. 'Mode.DEV' = infer on dev set.\n",
    "    ev_path='./data/evidence.json'\n",
    "    ev_pickle='./pickles/evidence.pkl'\n",
    "    rank_top_n = 500\n",
    "    shortlist_model_name = 'distilbert-base-cased'\n",
    "    er_model_name = 'roberta-large'\n",
    "    er_save_dir = './models/evidence_ranking_trained_model'\n",
    "    cc_model_name = 'roberta-large-mnli'\n",
    "    cc_save_dir = './models/claim_classification_trained_model'\n",
    "    claims_path = './data/dev-claims.json'\n",
    "    claims_pickle = './pickles/dev_claims.pkl'\n",
    "    claims_predictions = './output/dev-claims-predictions.json'\n",
    "\n",
    "    def dev_mode(self):\n",
    "        return True if self.mode == Mode.DEV else False\n",
    "\n",
    "my_args = Arguments()\n",
    "\n",
    "if my_args.mode == Mode.TEST:\n",
    "    my_args.claims_path = './data/test-claims-unlabelled.json'\n",
    "    my_args.claims_pickle = './pickles/test_claims.pkl'\n",
    "    my_args.claims_predictions = './output/test-claims-predictions.json'\n"
   ]
  },
  {
   "attachments": {},
   "cell_type": "markdown",
   "metadata": {},
   "source": [
    "# A. Shortlisting"
   ]
  },
  {
   "attachments": {},
   "cell_type": "markdown",
   "metadata": {},
   "source": [
    "### Training"
   ]
  },
  {
   "attachments": {},
   "cell_type": "markdown",
   "metadata": {},
   "source": [
    "There is no training / finetuning required in this step."
   ]
  },
  {
   "attachments": {},
   "cell_type": "markdown",
   "metadata": {},
   "source": [
    "### Inference"
   ]
  },
  {
   "attachments": {},
   "cell_type": "markdown",
   "metadata": {},
   "source": [
    "This section calls all the inference functions for the Shortlisting step. Please see *A_shortlisting.py* for methods."
   ]
  },
  {
   "cell_type": "code",
   "execution_count": 4,
   "metadata": {},
   "outputs": [
    {
     "name": "stderr",
     "output_type": "stream",
     "text": [
      "Some weights of the model checkpoint at distilbert-base-cased were not used when initializing DistilBertModel: ['vocab_projector.bias', 'vocab_transform.bias', 'vocab_layer_norm.bias', 'vocab_layer_norm.weight', 'vocab_transform.weight', 'vocab_projector.weight']\n",
      "- This IS expected if you are initializing DistilBertModel from the checkpoint of a model trained on another task or with another architecture (e.g. initializing a BertForSequenceClassification model from a BertForPreTraining model).\n",
      "- This IS NOT expected if you are initializing DistilBertModel from the checkpoint of a model that you expect to be exactly identical (initializing a BertForSequenceClassification model from a BertForSequenceClassification model).\n"
     ]
    },
    {
     "name": "stdout",
     "output_type": "stream",
     "text": [
      "Reading claims from ./data/test-claims-unlabelled.json\n",
      "Generating embeddings...\n"
     ]
    },
    {
     "name": "stderr",
     "output_type": "stream",
     "text": [
      "100%|██████████| 1/1 [00:05<00:00,  6.00s/it]\n"
     ]
    },
    {
     "name": "stdout",
     "output_type": "stream",
     "text": [
      "Extracting nouns and entities...\n"
     ]
    },
    {
     "name": "stderr",
     "output_type": "stream",
     "text": [
      "100%|██████████| 153/153 [00:00<00:00, 437.33it/s]\n"
     ]
    },
    {
     "name": "stdout",
     "output_type": "stream",
     "text": [
      "Getting top_10k_embeddings...\n"
     ]
    },
    {
     "name": "stderr",
     "output_type": "stream",
     "text": [
      "100%|██████████| 153/153 [00:04<00:00, 33.41it/s]\n"
     ]
    },
    {
     "name": "stdout",
     "output_type": "stream",
     "text": [
      "Getting top_10k_nouns...\n"
     ]
    },
    {
     "name": "stderr",
     "output_type": "stream",
     "text": [
      "100%|██████████| 153/153 [02:07<00:00,  1.20it/s]\n"
     ]
    },
    {
     "name": "stdout",
     "output_type": "stream",
     "text": [
      "Getting top_10k consolidated list...\n"
     ]
    },
    {
     "name": "stderr",
     "output_type": "stream",
     "text": [
      "100%|██████████| 153/153 [01:21<00:00,  1.88it/s]\n"
     ]
    },
    {
     "name": "stdout",
     "output_type": "stream",
     "text": [
      "Number of claims:  153\n",
      "Saving claims to pickle...done.\n"
     ]
    }
   ],
   "source": [
    "from A_shortlisting import build_evidence, save_evidence, load_evidence, build_claims, save_claims, load_claims, get_top_10k_splices_recall, plot_counts\n",
    "\n",
    "shortlist_model_name = my_args.shortlist_model_name\n",
    "shortlist_tokenizer = AutoTokenizer.from_pretrained(shortlist_model_name)\n",
    "shortlist_model = AutoModel.from_pretrained(shortlist_model_name).to('cuda')\n",
    "\n",
    "# Build evidence dataframe with feature sets\n",
    "evidence = build_evidence(shortlist_model, shortlist_tokenizer, path=my_args.ev_path)\n",
    "\n",
    "# Save evidence dataframe to pickle for future use\n",
    "save_evidence(evidence, my_args.ev_pickle)\n",
    "\n",
    "# Build claim dataframe with feature sets and top 10k evidence lists\n",
    "claims = build_claims(shortlist_model, shortlist_tokenizer, evidence, path=my_args.claims_path, dev_mode=my_args.dev_mode())\n",
    "\n",
    "# Save claims dataframe to pickle for future use\n",
    "save_claims(claims, my_args.claims_pickle)"
   ]
  },
  {
   "attachments": {},
   "cell_type": "markdown",
   "metadata": {},
   "source": [
    "##### (DEV mode only) Metrics and analysis on dev set"
   ]
  },
  {
   "cell_type": "code",
   "execution_count": 11,
   "metadata": {},
   "outputs": [
    {
     "name": "stdout",
     "output_type": "stream",
     "text": [
      "Analysing recall...\n",
      "Total recalled in top_10k_consolidated: 438 / 491 = 0.892057\n",
      "defaultdict(None, {'0-500': 305, '500-1000': 35, '1000-1500': 25, '1500-2000': 18, '2000-2500': 19, '2500-3000': 8, '3000-3500': 10, '3500-4000': 10, '4000-4500': 3, '4500-5000': 5})\n",
      "Analysing recall...\n",
      "Total recalled in top_10k_embeddings: 383 / 491 = 0.780041\n",
      "defaultdict(None, {'0-500': 223, '500-1000': 54, '1000-1500': 27, '1500-2000': 24, '2000-2500': 19, '2500-3000': 13, '3000-3500': 9, '3500-4000': 9, '4000-4500': 2, '4500-5000': 3})\n",
      "Analysing recall...\n",
      "Total recalled in top_10k_nouns: 371 / 491 = 0.755601\n",
      "defaultdict(None, {'0-500': 251, '500-1000': 42, '1000-1500': 29, '1500-2000': 11, '2000-2500': 10, '2500-3000': 7, '3000-3500': 8, '3500-4000': 6, '4000-4500': 4, '4500-5000': 3})\n"
     ]
    },
    {
     "data": {
      "image/png": "[encoded data removed]",
      "text/plain": [
       "<Figure size 640x480 with 1 Axes>"
      ]
     },
     "metadata": {},
     "output_type": "display_data"
    },
    {
     "data": {
      "text/plain": [
       "<Figure size 400x400 with 0 Axes>"
      ]
     },
     "metadata": {},
     "output_type": "display_data"
    }
   ],
   "source": [
    "if my_args.mode == Mode.DEV:\n",
    "    total_width = 5000\n",
    "    consolidated = get_top_10k_splices_recall(claims, bin_width=500, dev_mode=my_args.dev_mode(), col_name='top_10k_consolidated', total_width=total_width)\n",
    "    print(consolidated)\n",
    "    embeddings = get_top_10k_splices_recall(claims, bin_width=500, dev_mode=my_args.dev_mode(), col_name='top_10k_embeddings', total_width=total_width)\n",
    "    print(embeddings)\n",
    "    noun_entity = get_top_10k_splices_recall(claims, bin_width=500, dev_mode=my_args.dev_mode(), col_name='top_10k_nouns', total_width=total_width)\n",
    "    print(noun_entity)\n",
    "    plot_counts(consolidated, embeddings, noun_entity)\n",
    "else:\n",
    "    print(\"Cannot provide metrics in TEST mode.\")"
   ]
  },
  {
   "attachments": {},
   "cell_type": "markdown",
   "metadata": {},
   "source": [
    "# B. Evidence Ranking"
   ]
  },
  {
   "attachments": {},
   "cell_type": "markdown",
   "metadata": {},
   "source": [
    "### Training"
   ]
  },
  {
   "attachments": {},
   "cell_type": "markdown",
   "metadata": {},
   "source": [
    "The evidence ranking model needs to be trained / finetuned **prior** to inference. Please see *B_evidence_ranking_training.ipynb* for training methods. Note that the evidence shortlists built in step A (above), and the claims dataframes (below) must be complete in order to train this model, because the hard negative mining instances select from the ranked evidence list. Training will save trained model weights into /models subfolder, which are then accessed by the methods called below."
   ]
  },
  {
   "attachments": {},
   "cell_type": "markdown",
   "metadata": {},
   "source": [
    "If the kernel has been reset since running the shortlisting step, above, the model and evidence objects can be reloaded by un-commenting the code in the cell below:"
   ]
  },
  {
   "cell_type": "code",
   "execution_count": null,
   "metadata": {},
   "outputs": [],
   "source": [
    "# # Load models, and evidence from pickle (if kernel has been reset since running Shortlisting, above):\n",
    "# from A_shortlisting import load_evidence\n",
    "# shortlist_model_name = my_args.shortlist_model_name\n",
    "# shortlist_tokenizer = AutoTokenizer.from_pretrained(shortlist_model_name)\n",
    "# shortlist_model = AutoModel.from_pretrained(shortlist_model_name).to('cuda')\n",
    "# evidence = load_evidence(my_args.ev_pickle)"
   ]
  },
  {
   "cell_type": "code",
   "execution_count": 6,
   "metadata": {},
   "outputs": [
    {
     "name": "stdout",
     "output_type": "stream",
     "text": [
      "Reading claims from ./data/dev-claims.json\n",
      "Generating embeddings...\n"
     ]
    },
    {
     "name": "stderr",
     "output_type": "stream",
     "text": [
      "100%|██████████| 1/1 [00:04<00:00,  4.87s/it]\n"
     ]
    },
    {
     "name": "stdout",
     "output_type": "stream",
     "text": [
      "Extracting nouns and entities...\n"
     ]
    },
    {
     "name": "stderr",
     "output_type": "stream",
     "text": [
      "100%|██████████| 154/154 [00:07<00:00, 20.74it/s]\n"
     ]
    },
    {
     "name": "stdout",
     "output_type": "stream",
     "text": [
      "Getting top_10k_embeddings...\n"
     ]
    },
    {
     "name": "stderr",
     "output_type": "stream",
     "text": [
      "100%|██████████| 154/154 [00:04<00:00, 34.12it/s]\n"
     ]
    },
    {
     "name": "stdout",
     "output_type": "stream",
     "text": [
      "Getting top_10k_nouns...\n"
     ]
    },
    {
     "name": "stderr",
     "output_type": "stream",
     "text": [
      "100%|██████████| 154/154 [02:07<00:00,  1.21it/s]\n"
     ]
    },
    {
     "name": "stdout",
     "output_type": "stream",
     "text": [
      "Getting top_10k consolidated list...\n"
     ]
    },
    {
     "name": "stderr",
     "output_type": "stream",
     "text": [
      "100%|██████████| 154/154 [01:21<00:00,  1.90it/s]\n"
     ]
    },
    {
     "name": "stdout",
     "output_type": "stream",
     "text": [
      "Number of claims:  154\n",
      "Saving claims to pickle...done.\n",
      "Reading claims from ./data/train-claims.json\n",
      "Generating embeddings...\n"
     ]
    },
    {
     "name": "stderr",
     "output_type": "stream",
     "text": [
      "100%|██████████| 3/3 [00:01<00:00,  1.66it/s]\n"
     ]
    },
    {
     "name": "stdout",
     "output_type": "stream",
     "text": [
      "Extracting nouns and entities...\n"
     ]
    },
    {
     "name": "stderr",
     "output_type": "stream",
     "text": [
      "100%|██████████| 1228/1228 [00:02<00:00, 539.85it/s]\n"
     ]
    },
    {
     "name": "stdout",
     "output_type": "stream",
     "text": [
      "Getting top_10k_embeddings...\n"
     ]
    },
    {
     "name": "stderr",
     "output_type": "stream",
     "text": [
      "100%|██████████| 1228/1228 [00:39<00:00, 30.91it/s]\n"
     ]
    },
    {
     "name": "stdout",
     "output_type": "stream",
     "text": [
      "Getting top_10k_nouns...\n"
     ]
    },
    {
     "name": "stderr",
     "output_type": "stream",
     "text": [
      "100%|██████████| 1228/1228 [24:22<00:00,  1.19s/it]\n"
     ]
    },
    {
     "name": "stdout",
     "output_type": "stream",
     "text": [
      "Getting top_10k consolidated list...\n"
     ]
    },
    {
     "name": "stderr",
     "output_type": "stream",
     "text": [
      "100%|██████████| 1228/1228 [18:34<00:00,  1.10it/s]\n"
     ]
    },
    {
     "name": "stdout",
     "output_type": "stream",
     "text": [
      "Number of claims:  1228\n",
      "Saving claims to pickle...done.\n"
     ]
    }
   ],
   "source": [
    "# Build and save claims dataframe for dev and train sets only (for hard negative mining during training of Evidence Ranking model):\n",
    "er_dev_claims = build_claims(shortlist_model, shortlist_tokenizer, evidence, path='./data/dev-claims.json', dev_mode=True)\n",
    "save_claims(er_dev_claims, './pickles/er_dev_claims.pkl')\n",
    "er_train_claims = build_claims(shortlist_model, shortlist_tokenizer, evidence, path='./data/train-claims.json', dev_mode=True)\n",
    "save_claims(er_train_claims, './pickles/er_train_claims.pkl')"
   ]
  },
  {
   "attachments": {},
   "cell_type": "markdown",
   "metadata": {},
   "source": [
    "NOW, GO TO -> *B_evidence_ranking_training.ipynb* -> before continuing"
   ]
  },
  {
   "attachments": {},
   "cell_type": "markdown",
   "metadata": {},
   "source": [
    "### Inference"
   ]
  },
  {
   "attachments": {},
   "cell_type": "markdown",
   "metadata": {},
   "source": [
    "This section calls the inference functions for the Evidence Ranking step. Please see *B_evidence_ranking.py* for methods. If the kernel has been reset since running Shortlisting step, above, the evidence and claims objects can be loaded from pickle by un-commenting the code in the following cell:"
   ]
  },
  {
   "cell_type": "code",
   "execution_count": 4,
   "metadata": {},
   "outputs": [],
   "source": [
    "# # Load evidence and claims from pickle (if kernel has been reset since running Shortlisting, above):\n",
    "# from A_shortlisting import load_evidence, load_claims\n",
    "# evidence = load_evidence(my_args.ev_pickle)\n",
    "# claims = load_claims(my_args.claims_pickle)"
   ]
  },
  {
   "cell_type": "code",
   "execution_count": 5,
   "metadata": {},
   "outputs": [
    {
     "name": "stdout",
     "output_type": "stream",
     "text": [
      "Adding top 5 evidences to claims...\n"
     ]
    },
    {
     "name": "stderr",
     "output_type": "stream",
     "text": [
      "100%|██████████| 153/153 [21:06<00:00,  8.28s/it]\n"
     ]
    },
    {
     "name": "stdout",
     "output_type": "stream",
     "text": [
      "Saving claims to pickle...done.\n"
     ]
    }
   ],
   "source": [
    "from B_evidence_ranking import add_top_5, get_top_5_recall\n",
    "\n",
    "ranking_save_dir = my_args.er_save_dir\n",
    "ranking_tokenizer = AutoTokenizer.from_pretrained(my_args.er_model_name, device='cuda')\n",
    "ranking_model = AutoModelForSequenceClassification.from_pretrained(pretrained_model_name_or_path=ranking_save_dir).to('cuda')\n",
    "\n",
    "# Rank the shortlist evidences for each claim and add the top_5 to the dataframe\n",
    "claims = add_top_5(claims, evidence, ranking_model, ranking_tokenizer, N=my_args.rank_top_n)\n",
    "\n",
    "# Save claims dataframe for future use:\n",
    "save_claims(claims, my_args.claims_pickle)"
   ]
  },
  {
   "attachments": {},
   "cell_type": "markdown",
   "metadata": {},
   "source": [
    "##### (DEV mode only) Metrics and analysis on dev set"
   ]
  },
  {
   "cell_type": "code",
   "execution_count": 8,
   "metadata": {},
   "outputs": [
    {
     "name": "stdout",
     "output_type": "stream",
     "text": [
      "TOTAL RECALL: 138 / 491\n"
     ]
    }
   ],
   "source": [
    "if my_args.mode == Mode.DEV:\n",
    "    get_top_5_recall(claims, my_args.dev_mode())\n",
    "else:\n",
    "    print(\"Cannot provide metrics in TEST mode.\")"
   ]
  },
  {
   "attachments": {},
   "cell_type": "markdown",
   "metadata": {},
   "source": [
    "# C. Claim Classification"
   ]
  },
  {
   "attachments": {},
   "cell_type": "markdown",
   "metadata": {},
   "source": [
    "### Training"
   ]
  },
  {
   "attachments": {},
   "cell_type": "markdown",
   "metadata": {},
   "source": [
    "The claim classification model needs to be trained / finetuned **prior** to inference. Please see *C_claim_classification_training.ipynb* for training methods. Training will save trained model weights into /models subfolder, which are then accessed by the methods called below."
   ]
  },
  {
   "attachments": {},
   "cell_type": "markdown",
   "metadata": {},
   "source": [
    "GO TO -> *C_claim_classification_training.ipynb* -> before continuing"
   ]
  },
  {
   "attachments": {},
   "cell_type": "markdown",
   "metadata": {},
   "source": [
    "### Inference"
   ]
  },
  {
   "attachments": {},
   "cell_type": "markdown",
   "metadata": {},
   "source": [
    "This section calls the inference functions for the Claim Classification step. It classifies each evidence-claim pair, assigns a label to the claim and selects the final evidence set. Please see *C_claim_classification.py* for methods. If the kernel has been reset since running the Evidence Ranking step, above, the evidence and claims objects can be loaded from pickle by un-commenting the code in the following cell:"
   ]
  },
  {
   "cell_type": "code",
   "execution_count": 5,
   "metadata": {},
   "outputs": [
    {
     "name": "stdout",
     "output_type": "stream",
     "text": [
      "Loading evidence from pickle...done.\n",
      "Loading claims from pickle...done.\n"
     ]
    }
   ],
   "source": [
    "# Load evidence and claims from pickle (if kernel has been reset since running Evidence Ranking, above):\n",
    "# from A_shortlisting import load_evidence, save_claims, load_claims\n",
    "# evidence = load_evidence(my_args.ev_pickle)\n",
    "# claims = load_claims(my_args.claims_pickle)"
   ]
  },
  {
   "cell_type": "code",
   "execution_count": 6,
   "metadata": {},
   "outputs": [
    {
     "name": "stdout",
     "output_type": "stream",
     "text": [
      "Adding final classifications to claims:\n",
      "Getting labels for top_5...\n"
     ]
    },
    {
     "name": "stderr",
     "output_type": "stream",
     "text": [
      "100%|██████████| 153/153 [00:16<00:00,  9.21it/s]\n"
     ]
    },
    {
     "name": "stdout",
     "output_type": "stream",
     "text": [
      "Getting predictions based on top_5 labels:...done.\n",
      "Saving claims to pickle...done.\n"
     ]
    }
   ],
   "source": [
    "classifier_save_dir = my_args.cc_save_dir\n",
    "classifier_tokenizer = AutoTokenizer.from_pretrained(my_args.cc_model_name, device='cuda')\n",
    "classifier_model = AutoModelForSequenceClassification.from_pretrained(pretrained_model_name_or_path=classifier_save_dir).to('cuda')\n",
    "\n",
    "from C_claim_classification import add_classifications\n",
    "\n",
    "# Run the classifier to add label to individual claim-ev top5 pairs, assign overall label and append final evidence set to claim dataframe:\n",
    "claims = add_classifications(claims, evidence, classifier_model, classifier_tokenizer)\n",
    "\n",
    "# Save claims dataframe\n",
    "save_claims(claims, my_args.claims_pickle)"
   ]
  },
  {
   "attachments": {},
   "cell_type": "markdown",
   "metadata": {},
   "source": [
    "##### (DEV mode only) Metrics"
   ]
  },
  {
   "cell_type": "code",
   "execution_count": 7,
   "metadata": {},
   "outputs": [
    {
     "name": "stdout",
     "output_type": "stream",
     "text": [
      "TOTAL RECALLED  : 120 / 491 (0.244399)\n",
      "TOTAL PREDICTED : 555\n",
      "Claim label prediction accuracy: 0.538961\n",
      "Confusion matrix:\n",
      "     D  NEI  R   S\n",
      "D    7    1  1   9\n",
      "NEI  5   10  6  20\n",
      "R    9    4  9   5\n",
      "S    8    1  2  57\n"
     ]
    }
   ],
   "source": [
    "if my_args.mode == Mode.DEV:\n",
    "    from C_claim_classification import get_evidences_pred_recall, get_accuracy, get_confusion_matrix\n",
    "    get_evidences_pred_recall(claims, my_args.dev_mode())\n",
    "    get_accuracy(claims, my_args.dev_mode())\n",
    "    get_confusion_matrix(claims, my_args.dev_mode())\n",
    "else:\n",
    "    print(\"Cannot provide metrics in TEST mode.\")"
   ]
  },
  {
   "attachments": {},
   "cell_type": "markdown",
   "metadata": {},
   "source": [
    "# Export & Evaluation"
   ]
  },
  {
   "attachments": {},
   "cell_type": "markdown",
   "metadata": {},
   "source": [
    "This section builds the output json file for final evaluation. The export is found in ./output subfolder. The claims object can be retrieved from the Claim Classification step by un-commenting the code in the first cell."
   ]
  },
  {
   "cell_type": "code",
   "execution_count": null,
   "metadata": {},
   "outputs": [],
   "source": [
    "# # Load claims from pickle (if kernel has been reset since running Claim Classification, above):\n",
    "# claims = load_claims(my_args.claims_pickle)"
   ]
  },
  {
   "cell_type": "code",
   "execution_count": 7,
   "metadata": {},
   "outputs": [
    {
     "name": "stdout",
     "output_type": "stream",
     "text": [
      "Saved predictions to ./output/test-claims-predictions.json\n"
     ]
    }
   ],
   "source": [
    "from D_export_eval import build_predictions_json\n",
    "\n",
    "# Build output json file\n",
    "build_predictions_json(claims, my_args.claims_predictions)"
   ]
  },
  {
   "cell_type": "code",
   "execution_count": 10,
   "metadata": {},
   "outputs": [
    {
     "name": "stdout",
     "output_type": "stream",
     "text": [
      "Evidence Retrieval F-score (F)    = 0.22514945372088233\n",
      "Claim Classification Accuracy (A) = 0.538961038961039\n",
      "Harmonic Mean of F and A          = 0.3176158020628844\n"
     ]
    }
   ],
   "source": [
    "# # Run eval.py script when in dev mode:\n",
    "# %run ./eval.py --predictions \"./output/dev-claims-predictions.json\" --groundtruth \"./data/dev-claims.json\""
   ]
  }
 ],
 "metadata": {
  "kernelspec": {
   "display_name": "py_109_NLP",
   "language": "python",
   "name": "python3"
  },
  "language_info": {
   "codemirror_mode": {
    "name": "ipython",
    "version": 3
   },
   "file_extension": ".py",
   "mimetype": "text/x-python",
   "name": "python",
   "nbconvert_exporter": "python",
   "pygments_lexer": "ipython3",
   "version": "3.10.9"
  },
  "orig_nbformat": 4
 },
 "nbformat": 4,
 "nbformat_minor": 2
}
